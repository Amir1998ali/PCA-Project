{
 "cells": [
  {
   "cell_type": "markdown",
   "metadata": {},
   "source": [
    "# Incremental Capstone Project 7 - Clustering"
   ]
  },
  {
   "cell_type": "code",
   "execution_count": 3,
   "metadata": {
    "execution": {
     "iopub.execute_input": "2024-12-12T03:46:23.274690Z",
     "iopub.status.busy": "2024-12-12T03:46:23.274268Z",
     "iopub.status.idle": "2024-12-12T03:46:23.294216Z",
     "shell.execute_reply": "2024-12-12T03:46:23.293784Z",
     "shell.execute_reply.started": "2024-12-12T03:46:23.274656Z"
    },
    "tags": []
   },
   "outputs": [
    {
     "data": {
      "text/html": [
       "<style>.container { width:100% !important; }</style>"
      ],
      "text/plain": [
       "<IPython.core.display.HTML object>"
      ]
     },
     "metadata": {},
     "output_type": "display_data"
    },
    {
     "data": {
      "text/html": [
       "<style>div.output_scroll { height: 1000px; }</style>"
      ],
      "text/plain": [
       "<IPython.core.display.HTML object>"
      ]
     },
     "metadata": {},
     "output_type": "display_data"
    },
    {
     "data": {
      "text/html": [
       "<style>.output {color: #7df9ff;}</style>"
      ],
      "text/plain": [
       "<IPython.core.display.HTML object>"
      ]
     },
     "metadata": {},
     "output_type": "display_data"
    },
    {
     "data": {
      "text/html": [
       "<style>table.dataframe, .dataframe td {border: 1px solid black; color:black;font-size:18px;}</style>"
      ],
      "text/plain": [
       "<IPython.core.display.HTML object>"
      ]
     },
     "metadata": {},
     "output_type": "display_data"
    },
    {
     "data": {
      "text/html": [
       "<style>table.dataframe tr:nth-child(even) {background-color: rgb(253,253,201);}</style>"
      ],
      "text/plain": [
       "<IPython.core.display.HTML object>"
      ]
     },
     "metadata": {},
     "output_type": "display_data"
    },
    {
     "data": {
      "text/html": [
       "<style>table.dataframe tr:nth-child(odd) {background-color: rgb(162,255,255);}</style>"
      ],
      "text/plain": [
       "<IPython.core.display.HTML object>"
      ]
     },
     "metadata": {},
     "output_type": "display_data"
    },
    {
     "data": {
      "text/html": [
       "<style>.dataframe th {background-color: rgb(253,253,201); border: 1px solid black;color:red;}</style>"
      ],
      "text/plain": [
       "<IPython.core.display.HTML object>"
      ]
     },
     "metadata": {},
     "output_type": "display_data"
    }
   ],
   "source": [
    "import pandas as pd \n",
    "import numpy as np\n",
    "import matplotlib.pyplot as plt\n",
    "import seaborn as sns\n",
    "\n",
    "import warnings\n",
    "warnings.filterwarnings('ignore')\n",
    "\n",
    "from pandas_pretty_display import style_dataframe\n",
    "style_dataframe()\n"
   ]
  },
  {
   "cell_type": "code",
   "execution_count": 4,
   "metadata": {
    "execution": {
     "iopub.execute_input": "2024-12-12T03:46:23.295512Z",
     "iopub.status.busy": "2024-12-12T03:46:23.295380Z",
     "iopub.status.idle": "2024-12-12T03:46:23.390047Z",
     "shell.execute_reply": "2024-12-12T03:46:23.389440Z",
     "shell.execute_reply.started": "2024-12-12T03:46:23.295497Z"
    }
   },
   "outputs": [
    {
     "data": {
      "text/html": [
       "<div>\n",
       "<style scoped>\n",
       "    .dataframe tbody tr th:only-of-type {\n",
       "        vertical-align: middle;\n",
       "    }\n",
       "\n",
       "    .dataframe tbody tr th {\n",
       "        vertical-align: top;\n",
       "    }\n",
       "\n",
       "    .dataframe thead th {\n",
       "        text-align: right;\n",
       "    }\n",
       "</style>\n",
       "<table border=\"1\" class=\"dataframe\">\n",
       "  <thead>\n",
       "    <tr style=\"text-align: right;\">\n",
       "      <th></th>\n",
       "      <th>CUST_ID</th>\n",
       "      <th>BALANCE</th>\n",
       "      <th>BALANCE_FREQUENCY</th>\n",
       "      <th>PURCHASES</th>\n",
       "      <th>ONEOFF_PURCHASES</th>\n",
       "      <th>INSTALLMENTS_PURCHASES</th>\n",
       "      <th>CASH_ADVANCE</th>\n",
       "      <th>PURCHASES_FREQUENCY</th>\n",
       "      <th>ONEOFF_PURCHASES_FREQUENCY</th>\n",
       "      <th>PURCHASES_INSTALLMENTS_FREQUENCY</th>\n",
       "      <th>CASH_ADVANCE_FREQUENCY</th>\n",
       "      <th>CASH_ADVANCE_TRX</th>\n",
       "      <th>PURCHASES_TRX</th>\n",
       "      <th>CREDIT_LIMIT</th>\n",
       "      <th>PAYMENTS</th>\n",
       "      <th>MINIMUM_PAYMENTS</th>\n",
       "      <th>PRC_FULL_PAYMENT</th>\n",
       "      <th>TENURE</th>\n",
       "    </tr>\n",
       "  </thead>\n",
       "  <tbody>\n",
       "    <tr>\n",
       "      <th>0</th>\n",
       "      <td>C10001</td>\n",
       "      <td>40.900749</td>\n",
       "      <td>0.818182</td>\n",
       "      <td>95.40</td>\n",
       "      <td>0.00</td>\n",
       "      <td>95.4</td>\n",
       "      <td>0.000000</td>\n",
       "      <td>0.166667</td>\n",
       "      <td>0.000000</td>\n",
       "      <td>0.083333</td>\n",
       "      <td>0.000000</td>\n",
       "      <td>0</td>\n",
       "      <td>2</td>\n",
       "      <td>1000.0</td>\n",
       "      <td>201.802084</td>\n",
       "      <td>139.509787</td>\n",
       "      <td>0.000000</td>\n",
       "      <td>12</td>\n",
       "    </tr>\n",
       "    <tr>\n",
       "      <th>1</th>\n",
       "      <td>C10002</td>\n",
       "      <td>3202.467416</td>\n",
       "      <td>0.909091</td>\n",
       "      <td>0.00</td>\n",
       "      <td>0.00</td>\n",
       "      <td>0.0</td>\n",
       "      <td>6442.945483</td>\n",
       "      <td>0.000000</td>\n",
       "      <td>0.000000</td>\n",
       "      <td>0.000000</td>\n",
       "      <td>0.250000</td>\n",
       "      <td>4</td>\n",
       "      <td>0</td>\n",
       "      <td>7000.0</td>\n",
       "      <td>4103.032597</td>\n",
       "      <td>1072.340217</td>\n",
       "      <td>0.222222</td>\n",
       "      <td>12</td>\n",
       "    </tr>\n",
       "    <tr>\n",
       "      <th>2</th>\n",
       "      <td>C10003</td>\n",
       "      <td>2495.148862</td>\n",
       "      <td>1.000000</td>\n",
       "      <td>773.17</td>\n",
       "      <td>773.17</td>\n",
       "      <td>0.0</td>\n",
       "      <td>0.000000</td>\n",
       "      <td>1.000000</td>\n",
       "      <td>1.000000</td>\n",
       "      <td>0.000000</td>\n",
       "      <td>0.000000</td>\n",
       "      <td>0</td>\n",
       "      <td>12</td>\n",
       "      <td>7500.0</td>\n",
       "      <td>622.066742</td>\n",
       "      <td>627.284787</td>\n",
       "      <td>0.000000</td>\n",
       "      <td>12</td>\n",
       "    </tr>\n",
       "    <tr>\n",
       "      <th>3</th>\n",
       "      <td>C10004</td>\n",
       "      <td>1666.670542</td>\n",
       "      <td>0.636364</td>\n",
       "      <td>1499.00</td>\n",
       "      <td>1499.00</td>\n",
       "      <td>0.0</td>\n",
       "      <td>205.788017</td>\n",
       "      <td>0.083333</td>\n",
       "      <td>0.083333</td>\n",
       "      <td>0.000000</td>\n",
       "      <td>0.083333</td>\n",
       "      <td>1</td>\n",
       "      <td>1</td>\n",
       "      <td>7500.0</td>\n",
       "      <td>0.000000</td>\n",
       "      <td>NaN</td>\n",
       "      <td>0.000000</td>\n",
       "      <td>12</td>\n",
       "    </tr>\n",
       "    <tr>\n",
       "      <th>4</th>\n",
       "      <td>C10005</td>\n",
       "      <td>817.714335</td>\n",
       "      <td>1.000000</td>\n",
       "      <td>16.00</td>\n",
       "      <td>16.00</td>\n",
       "      <td>0.0</td>\n",
       "      <td>0.000000</td>\n",
       "      <td>0.083333</td>\n",
       "      <td>0.083333</td>\n",
       "      <td>0.000000</td>\n",
       "      <td>0.000000</td>\n",
       "      <td>0</td>\n",
       "      <td>1</td>\n",
       "      <td>1200.0</td>\n",
       "      <td>678.334763</td>\n",
       "      <td>244.791237</td>\n",
       "      <td>0.000000</td>\n",
       "      <td>12</td>\n",
       "    </tr>\n",
       "  </tbody>\n",
       "</table>\n",
       "</div>"
      ],
      "text/plain": [
       "  CUST_ID      BALANCE  BALANCE_FREQUENCY  PURCHASES  ONEOFF_PURCHASES  \\\n",
       "0  C10001    40.900749           0.818182      95.40              0.00   \n",
       "1  C10002  3202.467416           0.909091       0.00              0.00   \n",
       "2  C10003  2495.148862           1.000000     773.17            773.17   \n",
       "3  C10004  1666.670542           0.636364    1499.00           1499.00   \n",
       "4  C10005   817.714335           1.000000      16.00             16.00   \n",
       "\n",
       "   INSTALLMENTS_PURCHASES  CASH_ADVANCE  PURCHASES_FREQUENCY  \\\n",
       "0                    95.4      0.000000             0.166667   \n",
       "1                     0.0   6442.945483             0.000000   \n",
       "2                     0.0      0.000000             1.000000   \n",
       "3                     0.0    205.788017             0.083333   \n",
       "4                     0.0      0.000000             0.083333   \n",
       "\n",
       "   ONEOFF_PURCHASES_FREQUENCY  PURCHASES_INSTALLMENTS_FREQUENCY  \\\n",
       "0                    0.000000                          0.083333   \n",
       "1                    0.000000                          0.000000   \n",
       "2                    1.000000                          0.000000   \n",
       "3                    0.083333                          0.000000   \n",
       "4                    0.083333                          0.000000   \n",
       "\n",
       "   CASH_ADVANCE_FREQUENCY  CASH_ADVANCE_TRX  PURCHASES_TRX  CREDIT_LIMIT  \\\n",
       "0                0.000000                 0              2        1000.0   \n",
       "1                0.250000                 4              0        7000.0   \n",
       "2                0.000000                 0             12        7500.0   \n",
       "3                0.083333                 1              1        7500.0   \n",
       "4                0.000000                 0              1        1200.0   \n",
       "\n",
       "      PAYMENTS  MINIMUM_PAYMENTS  PRC_FULL_PAYMENT  TENURE  \n",
       "0   201.802084        139.509787          0.000000      12  \n",
       "1  4103.032597       1072.340217          0.222222      12  \n",
       "2   622.066742        627.284787          0.000000      12  \n",
       "3     0.000000               NaN          0.000000      12  \n",
       "4   678.334763        244.791237          0.000000      12  "
      ]
     },
     "execution_count": 4,
     "metadata": {},
     "output_type": "execute_result"
    }
   ],
   "source": [
    "# load the CC General.csv dataset\n",
    "df = pd.read_csv('CC General.csv')\n",
    "df.head()"
   ]
  },
  {
   "cell_type": "code",
   "execution_count": 5,
   "metadata": {
    "execution": {
     "iopub.execute_input": "2024-12-12T03:46:23.391258Z",
     "iopub.status.busy": "2024-12-12T03:46:23.390942Z",
     "iopub.status.idle": "2024-12-12T03:46:23.402216Z",
     "shell.execute_reply": "2024-12-12T03:46:23.401785Z",
     "shell.execute_reply.started": "2024-12-12T03:46:23.391239Z"
    }
   },
   "outputs": [
    {
     "data": {
      "text/html": [
       "<div>\n",
       "<style scoped>\n",
       "    .dataframe tbody tr th:only-of-type {\n",
       "        vertical-align: middle;\n",
       "    }\n",
       "\n",
       "    .dataframe tbody tr th {\n",
       "        vertical-align: top;\n",
       "    }\n",
       "\n",
       "    .dataframe thead th {\n",
       "        text-align: right;\n",
       "    }\n",
       "</style>\n",
       "<table border=\"1\" class=\"dataframe\">\n",
       "  <thead>\n",
       "    <tr style=\"text-align: right;\">\n",
       "      <th></th>\n",
       "      <th>BALANCE</th>\n",
       "      <th>BALANCE_FREQUENCY</th>\n",
       "      <th>PURCHASES</th>\n",
       "      <th>ONEOFF_PURCHASES</th>\n",
       "      <th>INSTALLMENTS_PURCHASES</th>\n",
       "      <th>CASH_ADVANCE</th>\n",
       "      <th>PURCHASES_FREQUENCY</th>\n",
       "      <th>ONEOFF_PURCHASES_FREQUENCY</th>\n",
       "      <th>PURCHASES_INSTALLMENTS_FREQUENCY</th>\n",
       "      <th>CASH_ADVANCE_FREQUENCY</th>\n",
       "      <th>CASH_ADVANCE_TRX</th>\n",
       "      <th>PURCHASES_TRX</th>\n",
       "      <th>CREDIT_LIMIT</th>\n",
       "      <th>PAYMENTS</th>\n",
       "      <th>MINIMUM_PAYMENTS</th>\n",
       "      <th>PRC_FULL_PAYMENT</th>\n",
       "      <th>TENURE</th>\n",
       "    </tr>\n",
       "    <tr>\n",
       "      <th>CUST_ID</th>\n",
       "      <th></th>\n",
       "      <th></th>\n",
       "      <th></th>\n",
       "      <th></th>\n",
       "      <th></th>\n",
       "      <th></th>\n",
       "      <th></th>\n",
       "      <th></th>\n",
       "      <th></th>\n",
       "      <th></th>\n",
       "      <th></th>\n",
       "      <th></th>\n",
       "      <th></th>\n",
       "      <th></th>\n",
       "      <th></th>\n",
       "      <th></th>\n",
       "      <th></th>\n",
       "    </tr>\n",
       "  </thead>\n",
       "  <tbody>\n",
       "    <tr>\n",
       "      <th>C10001</th>\n",
       "      <td>40.900749</td>\n",
       "      <td>0.818182</td>\n",
       "      <td>95.40</td>\n",
       "      <td>0.00</td>\n",
       "      <td>95.4</td>\n",
       "      <td>0.000000</td>\n",
       "      <td>0.166667</td>\n",
       "      <td>0.000000</td>\n",
       "      <td>0.083333</td>\n",
       "      <td>0.000000</td>\n",
       "      <td>0</td>\n",
       "      <td>2</td>\n",
       "      <td>1000.0</td>\n",
       "      <td>201.802084</td>\n",
       "      <td>139.509787</td>\n",
       "      <td>0.000000</td>\n",
       "      <td>12</td>\n",
       "    </tr>\n",
       "    <tr>\n",
       "      <th>C10002</th>\n",
       "      <td>3202.467416</td>\n",
       "      <td>0.909091</td>\n",
       "      <td>0.00</td>\n",
       "      <td>0.00</td>\n",
       "      <td>0.0</td>\n",
       "      <td>6442.945483</td>\n",
       "      <td>0.000000</td>\n",
       "      <td>0.000000</td>\n",
       "      <td>0.000000</td>\n",
       "      <td>0.250000</td>\n",
       "      <td>4</td>\n",
       "      <td>0</td>\n",
       "      <td>7000.0</td>\n",
       "      <td>4103.032597</td>\n",
       "      <td>1072.340217</td>\n",
       "      <td>0.222222</td>\n",
       "      <td>12</td>\n",
       "    </tr>\n",
       "    <tr>\n",
       "      <th>C10003</th>\n",
       "      <td>2495.148862</td>\n",
       "      <td>1.000000</td>\n",
       "      <td>773.17</td>\n",
       "      <td>773.17</td>\n",
       "      <td>0.0</td>\n",
       "      <td>0.000000</td>\n",
       "      <td>1.000000</td>\n",
       "      <td>1.000000</td>\n",
       "      <td>0.000000</td>\n",
       "      <td>0.000000</td>\n",
       "      <td>0</td>\n",
       "      <td>12</td>\n",
       "      <td>7500.0</td>\n",
       "      <td>622.066742</td>\n",
       "      <td>627.284787</td>\n",
       "      <td>0.000000</td>\n",
       "      <td>12</td>\n",
       "    </tr>\n",
       "    <tr>\n",
       "      <th>C10004</th>\n",
       "      <td>1666.670542</td>\n",
       "      <td>0.636364</td>\n",
       "      <td>1499.00</td>\n",
       "      <td>1499.00</td>\n",
       "      <td>0.0</td>\n",
       "      <td>205.788017</td>\n",
       "      <td>0.083333</td>\n",
       "      <td>0.083333</td>\n",
       "      <td>0.000000</td>\n",
       "      <td>0.083333</td>\n",
       "      <td>1</td>\n",
       "      <td>1</td>\n",
       "      <td>7500.0</td>\n",
       "      <td>0.000000</td>\n",
       "      <td>NaN</td>\n",
       "      <td>0.000000</td>\n",
       "      <td>12</td>\n",
       "    </tr>\n",
       "    <tr>\n",
       "      <th>C10005</th>\n",
       "      <td>817.714335</td>\n",
       "      <td>1.000000</td>\n",
       "      <td>16.00</td>\n",
       "      <td>16.00</td>\n",
       "      <td>0.0</td>\n",
       "      <td>0.000000</td>\n",
       "      <td>0.083333</td>\n",
       "      <td>0.083333</td>\n",
       "      <td>0.000000</td>\n",
       "      <td>0.000000</td>\n",
       "      <td>0</td>\n",
       "      <td>1</td>\n",
       "      <td>1200.0</td>\n",
       "      <td>678.334763</td>\n",
       "      <td>244.791237</td>\n",
       "      <td>0.000000</td>\n",
       "      <td>12</td>\n",
       "    </tr>\n",
       "  </tbody>\n",
       "</table>\n",
       "</div>"
      ],
      "text/plain": [
       "             BALANCE  BALANCE_FREQUENCY  PURCHASES  ONEOFF_PURCHASES  \\\n",
       "CUST_ID                                                                \n",
       "C10001     40.900749           0.818182      95.40              0.00   \n",
       "C10002   3202.467416           0.909091       0.00              0.00   \n",
       "C10003   2495.148862           1.000000     773.17            773.17   \n",
       "C10004   1666.670542           0.636364    1499.00           1499.00   \n",
       "C10005    817.714335           1.000000      16.00             16.00   \n",
       "\n",
       "         INSTALLMENTS_PURCHASES  CASH_ADVANCE  PURCHASES_FREQUENCY  \\\n",
       "CUST_ID                                                              \n",
       "C10001                     95.4      0.000000             0.166667   \n",
       "C10002                      0.0   6442.945483             0.000000   \n",
       "C10003                      0.0      0.000000             1.000000   \n",
       "C10004                      0.0    205.788017             0.083333   \n",
       "C10005                      0.0      0.000000             0.083333   \n",
       "\n",
       "         ONEOFF_PURCHASES_FREQUENCY  PURCHASES_INSTALLMENTS_FREQUENCY  \\\n",
       "CUST_ID                                                                 \n",
       "C10001                     0.000000                          0.083333   \n",
       "C10002                     0.000000                          0.000000   \n",
       "C10003                     1.000000                          0.000000   \n",
       "C10004                     0.083333                          0.000000   \n",
       "C10005                     0.083333                          0.000000   \n",
       "\n",
       "         CASH_ADVANCE_FREQUENCY  CASH_ADVANCE_TRX  PURCHASES_TRX  \\\n",
       "CUST_ID                                                            \n",
       "C10001                 0.000000                 0              2   \n",
       "C10002                 0.250000                 4              0   \n",
       "C10003                 0.000000                 0             12   \n",
       "C10004                 0.083333                 1              1   \n",
       "C10005                 0.000000                 0              1   \n",
       "\n",
       "         CREDIT_LIMIT     PAYMENTS  MINIMUM_PAYMENTS  PRC_FULL_PAYMENT  TENURE  \n",
       "CUST_ID                                                                         \n",
       "C10001         1000.0   201.802084        139.509787          0.000000      12  \n",
       "C10002         7000.0  4103.032597       1072.340217          0.222222      12  \n",
       "C10003         7500.0   622.066742        627.284787          0.000000      12  \n",
       "C10004         7500.0     0.000000               NaN          0.000000      12  \n",
       "C10005         1200.0   678.334763        244.791237          0.000000      12  "
      ]
     },
     "execution_count": 5,
     "metadata": {},
     "output_type": "execute_result"
    }
   ],
   "source": [
    "# set the CUST_ID column as the index\n",
    "df.set_index('CUST_ID', inplace=True)\n",
    "df.head()"
   ]
  },
  {
   "cell_type": "code",
   "execution_count": 6,
   "metadata": {
    "execution": {
     "iopub.execute_input": "2024-12-12T03:46:23.404553Z",
     "iopub.status.busy": "2024-12-12T03:46:23.404261Z",
     "iopub.status.idle": "2024-12-12T03:46:23.409472Z",
     "shell.execute_reply": "2024-12-12T03:46:23.408171Z",
     "shell.execute_reply.started": "2024-12-12T03:46:23.404532Z"
    }
   },
   "outputs": [
    {
     "data": {
      "text/plain": [
       "(8950, 17)"
      ]
     },
     "execution_count": 6,
     "metadata": {},
     "output_type": "execute_result"
    }
   ],
   "source": [
    "df.shape"
   ]
  },
  {
   "cell_type": "code",
   "execution_count": 7,
   "metadata": {
    "execution": {
     "iopub.execute_input": "2024-12-12T03:46:23.411126Z",
     "iopub.status.busy": "2024-12-12T03:46:23.410988Z",
     "iopub.status.idle": "2024-12-12T03:46:23.431399Z",
     "shell.execute_reply": "2024-12-12T03:46:23.430844Z",
     "shell.execute_reply.started": "2024-12-12T03:46:23.411113Z"
    }
   },
   "outputs": [
    {
     "name": "stdout",
     "output_type": "stream",
     "text": [
      "<class 'pandas.core.frame.DataFrame'>\n",
      "Index: 8950 entries, C10001 to C19190\n",
      "Data columns (total 17 columns):\n",
      " #   Column                            Non-Null Count  Dtype  \n",
      "---  ------                            --------------  -----  \n",
      " 0   BALANCE                           8950 non-null   float64\n",
      " 1   BALANCE_FREQUENCY                 8950 non-null   float64\n",
      " 2   PURCHASES                         8950 non-null   float64\n",
      " 3   ONEOFF_PURCHASES                  8950 non-null   float64\n",
      " 4   INSTALLMENTS_PURCHASES            8950 non-null   float64\n",
      " 5   CASH_ADVANCE                      8950 non-null   float64\n",
      " 6   PURCHASES_FREQUENCY               8950 non-null   float64\n",
      " 7   ONEOFF_PURCHASES_FREQUENCY        8950 non-null   float64\n",
      " 8   PURCHASES_INSTALLMENTS_FREQUENCY  8950 non-null   float64\n",
      " 9   CASH_ADVANCE_FREQUENCY            8950 non-null   float64\n",
      " 10  CASH_ADVANCE_TRX                  8950 non-null   int64  \n",
      " 11  PURCHASES_TRX                     8950 non-null   int64  \n",
      " 12  CREDIT_LIMIT                      8949 non-null   float64\n",
      " 13  PAYMENTS                          8950 non-null   float64\n",
      " 14  MINIMUM_PAYMENTS                  8637 non-null   float64\n",
      " 15  PRC_FULL_PAYMENT                  8950 non-null   float64\n",
      " 16  TENURE                            8950 non-null   int64  \n",
      "dtypes: float64(14), int64(3)\n",
      "memory usage: 1.2+ MB\n"
     ]
    }
   ],
   "source": [
    "df.info()"
   ]
  },
  {
   "cell_type": "code",
   "execution_count": 8,
   "metadata": {
    "execution": {
     "iopub.execute_input": "2024-12-12T03:46:23.432149Z",
     "iopub.status.busy": "2024-12-12T03:46:23.432022Z",
     "iopub.status.idle": "2024-12-12T03:46:23.442057Z",
     "shell.execute_reply": "2024-12-12T03:46:23.441673Z",
     "shell.execute_reply.started": "2024-12-12T03:46:23.432135Z"
    }
   },
   "outputs": [
    {
     "data": {
      "text/plain": [
       "0"
      ]
     },
     "execution_count": 8,
     "metadata": {},
     "output_type": "execute_result"
    }
   ],
   "source": [
    "df.duplicated().sum()"
   ]
  },
  {
   "cell_type": "markdown",
   "metadata": {},
   "source": [
    "## Check for missing values"
   ]
  },
  {
   "cell_type": "code",
   "execution_count": 9,
   "metadata": {
    "execution": {
     "iopub.execute_input": "2024-12-12T03:46:23.443096Z",
     "iopub.status.busy": "2024-12-12T03:46:23.442928Z",
     "iopub.status.idle": "2024-12-12T03:46:23.447459Z",
     "shell.execute_reply": "2024-12-12T03:46:23.447029Z",
     "shell.execute_reply.started": "2024-12-12T03:46:23.443062Z"
    }
   },
   "outputs": [
    {
     "data": {
      "text/plain": [
       "BALANCE                               0\n",
       "BALANCE_FREQUENCY                     0\n",
       "PURCHASES                             0\n",
       "ONEOFF_PURCHASES                      0\n",
       "INSTALLMENTS_PURCHASES                0\n",
       "CASH_ADVANCE                          0\n",
       "PURCHASES_FREQUENCY                   0\n",
       "ONEOFF_PURCHASES_FREQUENCY            0\n",
       "PURCHASES_INSTALLMENTS_FREQUENCY      0\n",
       "CASH_ADVANCE_FREQUENCY                0\n",
       "CASH_ADVANCE_TRX                      0\n",
       "PURCHASES_TRX                         0\n",
       "CREDIT_LIMIT                          1\n",
       "PAYMENTS                              0\n",
       "MINIMUM_PAYMENTS                    313\n",
       "PRC_FULL_PAYMENT                      0\n",
       "TENURE                                0\n",
       "dtype: int64"
      ]
     },
     "execution_count": 9,
     "metadata": {},
     "output_type": "execute_result"
    }
   ],
   "source": [
    "df.isnull().sum()"
   ]
  },
  {
   "cell_type": "code",
   "execution_count": 10,
   "metadata": {
    "execution": {
     "iopub.execute_input": "2024-12-12T03:46:23.448315Z",
     "iopub.status.busy": "2024-12-12T03:46:23.448129Z",
     "iopub.status.idle": "2024-12-12T03:46:23.456614Z",
     "shell.execute_reply": "2024-12-12T03:46:23.456207Z",
     "shell.execute_reply.started": "2024-12-12T03:46:23.448293Z"
    }
   },
   "outputs": [
    {
     "data": {
      "text/plain": [
       "(8636, 17)"
      ]
     },
     "execution_count": 10,
     "metadata": {},
     "output_type": "execute_result"
    }
   ],
   "source": [
    "# delete the records with missing values\n",
    "df.dropna(inplace=True)\n",
    "df.shape"
   ]
  },
  {
   "cell_type": "code",
   "execution_count": 11,
   "metadata": {
    "execution": {
     "iopub.execute_input": "2024-12-12T03:46:23.457485Z",
     "iopub.status.busy": "2024-12-12T03:46:23.457317Z",
     "iopub.status.idle": "2024-12-12T03:46:23.463256Z",
     "shell.execute_reply": "2024-12-12T03:46:23.462381Z",
     "shell.execute_reply.started": "2024-12-12T03:46:23.457463Z"
    }
   },
   "outputs": [
    {
     "data": {
      "text/plain": [
       "BALANCE                             0\n",
       "BALANCE_FREQUENCY                   0\n",
       "PURCHASES                           0\n",
       "ONEOFF_PURCHASES                    0\n",
       "INSTALLMENTS_PURCHASES              0\n",
       "CASH_ADVANCE                        0\n",
       "PURCHASES_FREQUENCY                 0\n",
       "ONEOFF_PURCHASES_FREQUENCY          0\n",
       "PURCHASES_INSTALLMENTS_FREQUENCY    0\n",
       "CASH_ADVANCE_FREQUENCY              0\n",
       "CASH_ADVANCE_TRX                    0\n",
       "PURCHASES_TRX                       0\n",
       "CREDIT_LIMIT                        0\n",
       "PAYMENTS                            0\n",
       "MINIMUM_PAYMENTS                    0\n",
       "PRC_FULL_PAYMENT                    0\n",
       "TENURE                              0\n",
       "dtype: int64"
      ]
     },
     "execution_count": 11,
     "metadata": {},
     "output_type": "execute_result"
    }
   ],
   "source": [
    "df.isnull().sum()"
   ]
  },
  {
   "cell_type": "markdown",
   "metadata": {},
   "source": [
    "## Scale the Data with Standard Scaler"
   ]
  },
  {
   "cell_type": "code",
   "execution_count": 12,
   "metadata": {
    "execution": {
     "iopub.execute_input": "2024-12-12T03:46:23.466842Z",
     "iopub.status.busy": "2024-12-12T03:46:23.466546Z",
     "iopub.status.idle": "2024-12-12T03:46:23.656050Z",
     "shell.execute_reply": "2024-12-12T03:46:23.655555Z",
     "shell.execute_reply.started": "2024-12-12T03:46:23.466808Z"
    }
   },
   "outputs": [
    {
     "data": {
      "text/html": [
       "<div>\n",
       "<style scoped>\n",
       "    .dataframe tbody tr th:only-of-type {\n",
       "        vertical-align: middle;\n",
       "    }\n",
       "\n",
       "    .dataframe tbody tr th {\n",
       "        vertical-align: top;\n",
       "    }\n",
       "\n",
       "    .dataframe thead th {\n",
       "        text-align: right;\n",
       "    }\n",
       "</style>\n",
       "<table border=\"1\" class=\"dataframe\">\n",
       "  <thead>\n",
       "    <tr style=\"text-align: right;\">\n",
       "      <th></th>\n",
       "      <th>BALANCE</th>\n",
       "      <th>BALANCE_FREQUENCY</th>\n",
       "      <th>PURCHASES</th>\n",
       "      <th>ONEOFF_PURCHASES</th>\n",
       "      <th>INSTALLMENTS_PURCHASES</th>\n",
       "      <th>CASH_ADVANCE</th>\n",
       "      <th>PURCHASES_FREQUENCY</th>\n",
       "      <th>ONEOFF_PURCHASES_FREQUENCY</th>\n",
       "      <th>PURCHASES_INSTALLMENTS_FREQUENCY</th>\n",
       "      <th>CASH_ADVANCE_FREQUENCY</th>\n",
       "      <th>CASH_ADVANCE_TRX</th>\n",
       "      <th>PURCHASES_TRX</th>\n",
       "      <th>CREDIT_LIMIT</th>\n",
       "      <th>PAYMENTS</th>\n",
       "      <th>MINIMUM_PAYMENTS</th>\n",
       "      <th>PRC_FULL_PAYMENT</th>\n",
       "      <th>TENURE</th>\n",
       "    </tr>\n",
       "  </thead>\n",
       "  <tbody>\n",
       "    <tr>\n",
       "      <th>0</th>\n",
       "      <td>-0.744625</td>\n",
       "      <td>-0.370047</td>\n",
       "      <td>-0.429184</td>\n",
       "      <td>-0.359160</td>\n",
       "      <td>-0.354826</td>\n",
       "      <td>-0.468655</td>\n",
       "      <td>-0.820769</td>\n",
       "      <td>-0.686280</td>\n",
       "      <td>-0.717179</td>\n",
       "      <td>-0.681953</td>\n",
       "      <td>-0.479437</td>\n",
       "      <td>-0.517623</td>\n",
       "      <td>-0.962575</td>\n",
       "      <td>-0.543942</td>\n",
       "      <td>-0.305508</td>\n",
       "      <td>-0.537727</td>\n",
       "      <td>0.355181</td>\n",
       "    </tr>\n",
       "    <tr>\n",
       "      <th>1</th>\n",
       "      <td>0.764152</td>\n",
       "      <td>0.067679</td>\n",
       "      <td>-0.473208</td>\n",
       "      <td>-0.359160</td>\n",
       "      <td>-0.458839</td>\n",
       "      <td>2.568556</td>\n",
       "      <td>-1.236139</td>\n",
       "      <td>-0.686280</td>\n",
       "      <td>-0.926522</td>\n",
       "      <td>0.557022</td>\n",
       "      <td>0.099258</td>\n",
       "      <td>-0.597054</td>\n",
       "      <td>0.677204</td>\n",
       "      <td>0.796852</td>\n",
       "      <td>0.087689</td>\n",
       "      <td>0.212380</td>\n",
       "      <td>0.355181</td>\n",
       "    </tr>\n",
       "    <tr>\n",
       "      <th>2</th>\n",
       "      <td>0.426602</td>\n",
       "      <td>0.505405</td>\n",
       "      <td>-0.116413</td>\n",
       "      <td>0.099909</td>\n",
       "      <td>-0.458839</td>\n",
       "      <td>-0.468655</td>\n",
       "      <td>1.256077</td>\n",
       "      <td>2.646651</td>\n",
       "      <td>-0.926522</td>\n",
       "      <td>-0.681953</td>\n",
       "      <td>-0.479437</td>\n",
       "      <td>-0.120467</td>\n",
       "      <td>0.813852</td>\n",
       "      <td>-0.399503</td>\n",
       "      <td>-0.099906</td>\n",
       "      <td>-0.537727</td>\n",
       "      <td>0.355181</td>\n",
       "    </tr>\n",
       "    <tr>\n",
       "      <th>3</th>\n",
       "      <td>-0.373910</td>\n",
       "      <td>0.505405</td>\n",
       "      <td>-0.465825</td>\n",
       "      <td>-0.349660</td>\n",
       "      <td>-0.458839</td>\n",
       "      <td>-0.468655</td>\n",
       "      <td>-1.028455</td>\n",
       "      <td>-0.408536</td>\n",
       "      <td>-0.926522</td>\n",
       "      <td>-0.681953</td>\n",
       "      <td>-0.479437</td>\n",
       "      <td>-0.557339</td>\n",
       "      <td>-0.907916</td>\n",
       "      <td>-0.380165</td>\n",
       "      <td>-0.261131</td>\n",
       "      <td>-0.537727</td>\n",
       "      <td>0.355181</td>\n",
       "    </tr>\n",
       "    <tr>\n",
       "      <th>4</th>\n",
       "      <td>0.099551</td>\n",
       "      <td>0.505405</td>\n",
       "      <td>0.142062</td>\n",
       "      <td>-0.359160</td>\n",
       "      <td>0.994815</td>\n",
       "      <td>-0.468655</td>\n",
       "      <td>0.425339</td>\n",
       "      <td>-0.686280</td>\n",
       "      <td>0.538882</td>\n",
       "      <td>-0.681953</td>\n",
       "      <td>-0.479437</td>\n",
       "      <td>-0.279329</td>\n",
       "      <td>-0.743938</td>\n",
       "      <td>-0.132119</td>\n",
       "      <td>0.650363</td>\n",
       "      <td>-0.537727</td>\n",
       "      <td>0.355181</td>\n",
       "    </tr>\n",
       "  </tbody>\n",
       "</table>\n",
       "</div>"
      ],
      "text/plain": [
       "    BALANCE  BALANCE_FREQUENCY  PURCHASES  ONEOFF_PURCHASES  \\\n",
       "0 -0.744625          -0.370047  -0.429184         -0.359160   \n",
       "1  0.764152           0.067679  -0.473208         -0.359160   \n",
       "2  0.426602           0.505405  -0.116413          0.099909   \n",
       "3 -0.373910           0.505405  -0.465825         -0.349660   \n",
       "4  0.099551           0.505405   0.142062         -0.359160   \n",
       "\n",
       "   INSTALLMENTS_PURCHASES  CASH_ADVANCE  PURCHASES_FREQUENCY  \\\n",
       "0               -0.354826     -0.468655            -0.820769   \n",
       "1               -0.458839      2.568556            -1.236139   \n",
       "2               -0.458839     -0.468655             1.256077   \n",
       "3               -0.458839     -0.468655            -1.028455   \n",
       "4                0.994815     -0.468655             0.425339   \n",
       "\n",
       "   ONEOFF_PURCHASES_FREQUENCY  PURCHASES_INSTALLMENTS_FREQUENCY  \\\n",
       "0                   -0.686280                         -0.717179   \n",
       "1                   -0.686280                         -0.926522   \n",
       "2                    2.646651                         -0.926522   \n",
       "3                   -0.408536                         -0.926522   \n",
       "4                   -0.686280                          0.538882   \n",
       "\n",
       "   CASH_ADVANCE_FREQUENCY  CASH_ADVANCE_TRX  PURCHASES_TRX  CREDIT_LIMIT  \\\n",
       "0               -0.681953         -0.479437      -0.517623     -0.962575   \n",
       "1                0.557022          0.099258      -0.597054      0.677204   \n",
       "2               -0.681953         -0.479437      -0.120467      0.813852   \n",
       "3               -0.681953         -0.479437      -0.557339     -0.907916   \n",
       "4               -0.681953         -0.479437      -0.279329     -0.743938   \n",
       "\n",
       "   PAYMENTS  MINIMUM_PAYMENTS  PRC_FULL_PAYMENT    TENURE  \n",
       "0 -0.543942         -0.305508         -0.537727  0.355181  \n",
       "1  0.796852          0.087689          0.212380  0.355181  \n",
       "2 -0.399503         -0.099906         -0.537727  0.355181  \n",
       "3 -0.380165         -0.261131         -0.537727  0.355181  \n",
       "4 -0.132119          0.650363         -0.537727  0.355181  "
      ]
     },
     "execution_count": 12,
     "metadata": {},
     "output_type": "execute_result"
    }
   ],
   "source": [
    "# scale the data\n",
    "from sklearn.preprocessing import StandardScaler\n",
    "scaler = StandardScaler()\n",
    "df_scaled = scaler.fit_transform(df)\n",
    "df_scaled = pd.DataFrame(df_scaled, columns=df.columns)\n",
    "df_scaled.head()"
   ]
  },
  {
   "cell_type": "code",
   "execution_count": 13,
   "metadata": {
    "execution": {
     "iopub.execute_input": "2024-12-12T03:46:23.656814Z",
     "iopub.status.busy": "2024-12-12T03:46:23.656693Z",
     "iopub.status.idle": "2024-12-12T03:46:23.687476Z",
     "shell.execute_reply": "2024-12-12T03:46:23.686993Z",
     "shell.execute_reply.started": "2024-12-12T03:46:23.656802Z"
    }
   },
   "outputs": [
    {
     "data": {
      "text/html": [
       "<div>\n",
       "<style scoped>\n",
       "    .dataframe tbody tr th:only-of-type {\n",
       "        vertical-align: middle;\n",
       "    }\n",
       "\n",
       "    .dataframe tbody tr th {\n",
       "        vertical-align: top;\n",
       "    }\n",
       "\n",
       "    .dataframe thead th {\n",
       "        text-align: right;\n",
       "    }\n",
       "</style>\n",
       "<table border=\"1\" class=\"dataframe\">\n",
       "  <thead>\n",
       "    <tr style=\"text-align: right;\">\n",
       "      <th></th>\n",
       "      <th>BALANCE</th>\n",
       "      <th>BALANCE_FREQUENCY</th>\n",
       "      <th>PURCHASES</th>\n",
       "      <th>ONEOFF_PURCHASES</th>\n",
       "      <th>INSTALLMENTS_PURCHASES</th>\n",
       "      <th>CASH_ADVANCE</th>\n",
       "      <th>PURCHASES_FREQUENCY</th>\n",
       "      <th>ONEOFF_PURCHASES_FREQUENCY</th>\n",
       "      <th>PURCHASES_INSTALLMENTS_FREQUENCY</th>\n",
       "      <th>CASH_ADVANCE_FREQUENCY</th>\n",
       "      <th>CASH_ADVANCE_TRX</th>\n",
       "      <th>PURCHASES_TRX</th>\n",
       "      <th>CREDIT_LIMIT</th>\n",
       "      <th>PAYMENTS</th>\n",
       "      <th>MINIMUM_PAYMENTS</th>\n",
       "      <th>PRC_FULL_PAYMENT</th>\n",
       "      <th>TENURE</th>\n",
       "    </tr>\n",
       "  </thead>\n",
       "  <tbody>\n",
       "    <tr>\n",
       "      <th>count</th>\n",
       "      <td>8636.00</td>\n",
       "      <td>8636.00</td>\n",
       "      <td>8636.00</td>\n",
       "      <td>8636.00</td>\n",
       "      <td>8636.00</td>\n",
       "      <td>8636.00</td>\n",
       "      <td>8636.00</td>\n",
       "      <td>8636.00</td>\n",
       "      <td>8636.00</td>\n",
       "      <td>8636.00</td>\n",
       "      <td>8636.00</td>\n",
       "      <td>8636.00</td>\n",
       "      <td>8636.00</td>\n",
       "      <td>8636.00</td>\n",
       "      <td>8636.00</td>\n",
       "      <td>8636.00</td>\n",
       "      <td>8636.00</td>\n",
       "    </tr>\n",
       "    <tr>\n",
       "      <th>mean</th>\n",
       "      <td>0.00</td>\n",
       "      <td>-0.00</td>\n",
       "      <td>0.00</td>\n",
       "      <td>-0.00</td>\n",
       "      <td>-0.00</td>\n",
       "      <td>-0.00</td>\n",
       "      <td>0.00</td>\n",
       "      <td>-0.00</td>\n",
       "      <td>0.00</td>\n",
       "      <td>0.00</td>\n",
       "      <td>0.00</td>\n",
       "      <td>-0.00</td>\n",
       "      <td>0.00</td>\n",
       "      <td>-0.00</td>\n",
       "      <td>-0.00</td>\n",
       "      <td>0.00</td>\n",
       "      <td>0.00</td>\n",
       "    </tr>\n",
       "    <tr>\n",
       "      <th>std</th>\n",
       "      <td>1.00</td>\n",
       "      <td>1.00</td>\n",
       "      <td>1.00</td>\n",
       "      <td>1.00</td>\n",
       "      <td>1.00</td>\n",
       "      <td>1.00</td>\n",
       "      <td>1.00</td>\n",
       "      <td>1.00</td>\n",
       "      <td>1.00</td>\n",
       "      <td>1.00</td>\n",
       "      <td>1.00</td>\n",
       "      <td>1.00</td>\n",
       "      <td>1.00</td>\n",
       "      <td>1.00</td>\n",
       "      <td>1.00</td>\n",
       "      <td>1.00</td>\n",
       "      <td>1.00</td>\n",
       "    </tr>\n",
       "    <tr>\n",
       "      <th>min</th>\n",
       "      <td>-0.76</td>\n",
       "      <td>-4.31</td>\n",
       "      <td>-0.47</td>\n",
       "      <td>-0.36</td>\n",
       "      <td>-0.46</td>\n",
       "      <td>-0.47</td>\n",
       "      <td>-1.24</td>\n",
       "      <td>-0.69</td>\n",
       "      <td>-0.93</td>\n",
       "      <td>-0.68</td>\n",
       "      <td>-0.48</td>\n",
       "      <td>-0.60</td>\n",
       "      <td>-1.22</td>\n",
       "      <td>-0.61</td>\n",
       "      <td>-0.36</td>\n",
       "      <td>-0.54</td>\n",
       "      <td>-4.22</td>\n",
       "    </tr>\n",
       "    <tr>\n",
       "      <th>25%</th>\n",
       "      <td>-0.69</td>\n",
       "      <td>0.07</td>\n",
       "      <td>-0.45</td>\n",
       "      <td>-0.36</td>\n",
       "      <td>-0.46</td>\n",
       "      <td>-0.47</td>\n",
       "      <td>-1.03</td>\n",
       "      <td>-0.69</td>\n",
       "      <td>-0.93</td>\n",
       "      <td>-0.68</td>\n",
       "      <td>-0.48</td>\n",
       "      <td>-0.56</td>\n",
       "      <td>-0.80</td>\n",
       "      <td>-0.47</td>\n",
       "      <td>-0.29</td>\n",
       "      <td>-0.54</td>\n",
       "      <td>0.36</td>\n",
       "    </tr>\n",
       "    <tr>\n",
       "      <th>50%</th>\n",
       "      <td>-0.33</td>\n",
       "      <td>0.51</td>\n",
       "      <td>-0.30</td>\n",
       "      <td>-0.33</td>\n",
       "      <td>-0.36</td>\n",
       "      <td>-0.47</td>\n",
       "      <td>0.01</td>\n",
       "      <td>-0.41</td>\n",
       "      <td>-0.51</td>\n",
       "      <td>-0.68</td>\n",
       "      <td>-0.48</td>\n",
       "      <td>-0.32</td>\n",
       "      <td>-0.42</td>\n",
       "      <td>-0.31</td>\n",
       "      <td>-0.23</td>\n",
       "      <td>-0.54</td>\n",
       "      <td>0.36</td>\n",
       "    </tr>\n",
       "    <tr>\n",
       "      <th>75%</th>\n",
       "      <td>0.24</td>\n",
       "      <td>0.51</td>\n",
       "      <td>0.06</td>\n",
       "      <td>-0.00</td>\n",
       "      <td>0.07</td>\n",
       "      <td>0.07</td>\n",
       "      <td>1.05</td>\n",
       "      <td>0.42</td>\n",
       "      <td>0.96</td>\n",
       "      <td>0.56</td>\n",
       "      <td>0.10</td>\n",
       "      <td>0.12</td>\n",
       "      <td>0.54</td>\n",
       "      <td>0.06</td>\n",
       "      <td>-0.02</td>\n",
       "      <td>0.02</td>\n",
       "      <td>0.36</td>\n",
       "    </tr>\n",
       "    <tr>\n",
       "      <th>max</th>\n",
       "      <td>8.32</td>\n",
       "      <td>0.51</td>\n",
       "      <td>22.16</td>\n",
       "      <td>23.84</td>\n",
       "      <td>24.07</td>\n",
       "      <td>21.75</td>\n",
       "      <td>1.26</td>\n",
       "      <td>2.65</td>\n",
       "      <td>1.59</td>\n",
       "      <td>6.75</td>\n",
       "      <td>17.32</td>\n",
       "      <td>13.62</td>\n",
       "      <td>6.96</td>\n",
       "      <td>16.82</td>\n",
       "      <td>31.84</td>\n",
       "      <td>2.84</td>\n",
       "      <td>0.36</td>\n",
       "    </tr>\n",
       "  </tbody>\n",
       "</table>\n",
       "</div>"
      ],
      "text/plain": [
       "       BALANCE  BALANCE_FREQUENCY  PURCHASES  ONEOFF_PURCHASES  \\\n",
       "count  8636.00            8636.00    8636.00           8636.00   \n",
       "mean      0.00              -0.00       0.00             -0.00   \n",
       "std       1.00               1.00       1.00              1.00   \n",
       "min      -0.76              -4.31      -0.47             -0.36   \n",
       "25%      -0.69               0.07      -0.45             -0.36   \n",
       "50%      -0.33               0.51      -0.30             -0.33   \n",
       "75%       0.24               0.51       0.06             -0.00   \n",
       "max       8.32               0.51      22.16             23.84   \n",
       "\n",
       "       INSTALLMENTS_PURCHASES  CASH_ADVANCE  PURCHASES_FREQUENCY  \\\n",
       "count                 8636.00       8636.00              8636.00   \n",
       "mean                    -0.00         -0.00                 0.00   \n",
       "std                      1.00          1.00                 1.00   \n",
       "min                     -0.46         -0.47                -1.24   \n",
       "25%                     -0.46         -0.47                -1.03   \n",
       "50%                     -0.36         -0.47                 0.01   \n",
       "75%                      0.07          0.07                 1.05   \n",
       "max                     24.07         21.75                 1.26   \n",
       "\n",
       "       ONEOFF_PURCHASES_FREQUENCY  PURCHASES_INSTALLMENTS_FREQUENCY  \\\n",
       "count                     8636.00                           8636.00   \n",
       "mean                        -0.00                              0.00   \n",
       "std                          1.00                              1.00   \n",
       "min                         -0.69                             -0.93   \n",
       "25%                         -0.69                             -0.93   \n",
       "50%                         -0.41                             -0.51   \n",
       "75%                          0.42                              0.96   \n",
       "max                          2.65                              1.59   \n",
       "\n",
       "       CASH_ADVANCE_FREQUENCY  CASH_ADVANCE_TRX  PURCHASES_TRX  CREDIT_LIMIT  \\\n",
       "count                 8636.00           8636.00        8636.00       8636.00   \n",
       "mean                     0.00              0.00          -0.00          0.00   \n",
       "std                      1.00              1.00           1.00          1.00   \n",
       "min                     -0.68             -0.48          -0.60         -1.22   \n",
       "25%                     -0.68             -0.48          -0.56         -0.80   \n",
       "50%                     -0.68             -0.48          -0.32         -0.42   \n",
       "75%                      0.56              0.10           0.12          0.54   \n",
       "max                      6.75             17.32          13.62          6.96   \n",
       "\n",
       "       PAYMENTS  MINIMUM_PAYMENTS  PRC_FULL_PAYMENT   TENURE  \n",
       "count   8636.00           8636.00           8636.00  8636.00  \n",
       "mean      -0.00             -0.00              0.00     0.00  \n",
       "std        1.00              1.00              1.00     1.00  \n",
       "min       -0.61             -0.36             -0.54    -4.22  \n",
       "25%       -0.47             -0.29             -0.54     0.36  \n",
       "50%       -0.31             -0.23             -0.54     0.36  \n",
       "75%        0.06             -0.02              0.02     0.36  \n",
       "max       16.82             31.84              2.84     0.36  "
      ]
     },
     "execution_count": 13,
     "metadata": {},
     "output_type": "execute_result"
    }
   ],
   "source": [
    "# check the mean and standard deviation of the scaled data\n",
    "df_scaled.describe().round(2)"
   ]
  },
  {
   "cell_type": "markdown",
   "metadata": {},
   "source": [
    "## Full PCA & Visualize the Components vs Cumulative Explained Variance"
   ]
  },
  {
   "cell_type": "code",
   "execution_count": 14,
   "metadata": {
    "execution": {
     "iopub.execute_input": "2024-12-12T03:46:23.688118Z",
     "iopub.status.busy": "2024-12-12T03:46:23.688018Z",
     "iopub.status.idle": "2024-12-12T03:46:24.024884Z",
     "shell.execute_reply": "2024-12-12T03:46:24.024407Z",
     "shell.execute_reply.started": "2024-12-12T03:46:23.688107Z"
    }
   },
   "outputs": [
    {
     "data": {
      "text/plain": [
       "(8636, 17)"
      ]
     },
     "execution_count": 14,
     "metadata": {},
     "output_type": "execute_result"
    }
   ],
   "source": [
    "# import the PCA class from sklearn\n",
    "from sklearn.decomposition import PCA\n",
    "\n",
    "pca = PCA()\n",
    "pca_df = pca.fit_transform(df_scaled)\n",
    "pca_df.shape"
   ]
  },
  {
   "cell_type": "code",
   "execution_count": 15,
   "metadata": {
    "execution": {
     "iopub.execute_input": "2024-12-12T03:46:24.025741Z",
     "iopub.status.busy": "2024-12-12T03:46:24.025616Z",
     "iopub.status.idle": "2024-12-12T03:46:24.029737Z",
     "shell.execute_reply": "2024-12-12T03:46:24.029266Z",
     "shell.execute_reply.started": "2024-12-12T03:46:24.025729Z"
    },
    "tags": []
   },
   "outputs": [
    {
     "data": {
      "text/plain": [
       "array([[-1.69639528e+00, -1.12258398e+00,  4.91561567e-01,\n",
       "         7.19520786e-01,  7.98304863e-02,  1.18233783e-01,\n",
       "         8.08992714e-01, -9.39699962e-02, -1.61897060e-02,\n",
       "        -8.24023618e-02, -2.16528951e-01, -5.31438186e-02,\n",
       "        -7.35128611e-02, -1.97109920e-01,  1.37453689e-01,\n",
       "         4.66832450e-02, -1.67762795e-04],\n",
       "       [-1.21568083e+00,  2.43563777e+00,  6.94657855e-01,\n",
       "        -9.88427380e-02,  8.03018785e-01, -9.17777198e-01,\n",
       "        -3.22969084e-01, -4.51185274e-02,  7.54617058e-01,\n",
       "        -7.48468357e-01, -8.78351465e-01, -5.92740998e-01,\n",
       "        -5.54713015e-02, -6.96165236e-01, -5.58965425e-01,\n",
       "        -8.56983025e-02,  6.90302629e-06],\n",
       "       [ 9.35853289e-01, -3.85201566e-01, -2.59532859e-02,\n",
       "         1.29384353e+00, -1.98728533e+00, -6.82139308e-01,\n",
       "        -1.62472141e+00,  7.34008271e-02, -8.37065886e-01,\n",
       "        -3.48542275e-02, -7.46797751e-01,  6.95778845e-01,\n",
       "         6.85712698e-01,  8.41755760e-03,  2.21005694e-01,\n",
       "         5.16991411e-01,  2.13407363e-05],\n",
       "       [-1.61463828e+00, -7.24586158e-01,  2.72358126e-01,\n",
       "         1.08611649e+00, -4.27813540e-01,  8.29822671e-02,\n",
       "         6.87000667e-01,  6.35483390e-02,  5.66940316e-01,\n",
       "        -8.35315686e-02, -4.66748909e-01, -1.19286025e-01,\n",
       "        -3.17068968e-02, -5.17776409e-02,  2.90623788e-01,\n",
       "        -7.17527731e-02, -7.44727080e-05],\n",
       "       [ 2.23700615e-01, -7.83609822e-01, -1.18443433e+00,\n",
       "         7.21352816e-01,  8.01242897e-01,  5.25879460e-01,\n",
       "         7.88892788e-01, -8.99415949e-02,  3.65857436e-01,\n",
       "        -1.92646950e-01, -1.94650635e-01,  3.32570022e-01,\n",
       "         4.91516784e-01, -8.25976828e-02,  1.63826294e-01,\n",
       "         1.31205466e-01, -3.43555939e-04]])"
      ]
     },
     "execution_count": 15,
     "metadata": {},
     "output_type": "execute_result"
    }
   ],
   "source": [
    "pca_df[0:5]"
   ]
  },
  {
   "cell_type": "code",
   "execution_count": 16,
   "metadata": {
    "execution": {
     "iopub.execute_input": "2024-12-12T03:46:24.030463Z",
     "iopub.status.busy": "2024-12-12T03:46:24.030291Z",
     "iopub.status.idle": "2024-12-12T03:46:24.033193Z",
     "shell.execute_reply": "2024-12-12T03:46:24.032760Z",
     "shell.execute_reply.started": "2024-12-12T03:46:24.030452Z"
    }
   },
   "outputs": [
    {
     "data": {
      "text/plain": [
       "array([4.62983620e+00, 3.46403341e+00, 1.51629231e+00, 1.28766257e+00,\n",
       "       1.06714866e+00, 9.71286112e-01, 8.35848726e-01, 7.15907723e-01,\n",
       "       6.25960921e-01, 5.23917010e-01, 4.01893153e-01, 3.01706671e-01,\n",
       "       2.42568833e-01, 2.00395358e-01, 1.71396366e-01, 4.61029927e-02,\n",
       "       1.17321400e-05])"
      ]
     },
     "execution_count": 16,
     "metadata": {},
     "output_type": "execute_result"
    }
   ],
   "source": [
    "# get the eigen values of the PCs\n",
    "eigen_values = pca.explained_variance_\n",
    "eigen_values"
   ]
  },
  {
   "cell_type": "code",
   "execution_count": 17,
   "metadata": {
    "execution": {
     "iopub.execute_input": "2024-12-12T03:46:24.034446Z",
     "iopub.status.busy": "2024-12-12T03:46:24.033902Z",
     "iopub.status.idle": "2024-12-12T03:46:24.039388Z",
     "shell.execute_reply": "2024-12-12T03:46:24.038928Z",
     "shell.execute_reply.started": "2024-12-12T03:46:24.034425Z"
    }
   },
   "outputs": [
    {
     "data": {
      "text/plain": [
       "array([ 4.6298362 ,  8.0938696 ,  9.61016191, 10.89782448, 11.96497314,\n",
       "       12.93625925, 13.77210797, 14.4880157 , 15.11397662, 15.63789363,\n",
       "       16.03978678, 16.34149345, 16.58406228, 16.78445764, 16.95585401,\n",
       "       17.001957  , 17.00196873])"
      ]
     },
     "execution_count": 17,
     "metadata": {},
     "output_type": "execute_result"
    }
   ],
   "source": [
    "# cumulative explained variance = cumulative sum of eigen values\n",
    "cumulative_variance = np.cumsum(eigen_values)\n",
    "cumulative_variance"
   ]
  },
  {
   "cell_type": "code",
   "execution_count": 18,
   "metadata": {
    "execution": {
     "iopub.execute_input": "2024-12-12T03:46:24.040496Z",
     "iopub.status.busy": "2024-12-12T03:46:24.040297Z",
     "iopub.status.idle": "2024-12-12T03:46:24.044122Z",
     "shell.execute_reply": "2024-12-12T03:46:24.043470Z",
     "shell.execute_reply.started": "2024-12-12T03:46:24.040463Z"
    }
   },
   "outputs": [
    {
     "data": {
      "text/plain": [
       "array([2.72311770e-01, 2.03743076e-01, 8.91833372e-02, 7.57360860e-02,\n",
       "       6.27661816e-02, 5.71278613e-02, 4.91618788e-02, 4.21073427e-02,\n",
       "       3.68169669e-02, 3.08150790e-02, 2.36380362e-02, 1.77453962e-02,\n",
       "       1.42671026e-02, 1.17865972e-02, 1.00809717e-02, 2.71162672e-03,\n",
       "       6.90045972e-07])"
      ]
     },
     "execution_count": 18,
     "metadata": {},
     "output_type": "execute_result"
    }
   ],
   "source": [
    "# explained variance ratio\n",
    "pca.explained_variance_ratio_"
   ]
  },
  {
   "cell_type": "code",
   "execution_count": 19,
   "metadata": {
    "execution": {
     "iopub.execute_input": "2024-12-12T03:46:24.044881Z",
     "iopub.status.busy": "2024-12-12T03:46:24.044760Z",
     "iopub.status.idle": "2024-12-12T03:46:24.048207Z",
     "shell.execute_reply": "2024-12-12T03:46:24.047857Z",
     "shell.execute_reply.started": "2024-12-12T03:46:24.044868Z"
    }
   },
   "outputs": [
    {
     "data": {
      "text/plain": [
       "array([0.27231177, 0.47605485, 0.56523818, 0.64097427, 0.70374045,\n",
       "       0.76086831, 0.81003019, 0.85213753, 0.8889545 , 0.91976958,\n",
       "       0.94340762, 0.96115301, 0.97542011, 0.98720671, 0.99728768,\n",
       "       0.99999931, 1.        ])"
      ]
     },
     "execution_count": 19,
     "metadata": {},
     "output_type": "execute_result"
    }
   ],
   "source": [
    "# cumulative explained variance ratio\n",
    "cumulative_explained_variance_ratio =pca.explained_variance_ratio_.cumsum()\n",
    "cumulative_explained_variance_ratio"
   ]
  },
  {
   "cell_type": "code",
   "execution_count": 20,
   "metadata": {
    "execution": {
     "iopub.execute_input": "2024-12-12T03:46:24.049006Z",
     "iopub.status.busy": "2024-12-12T03:46:24.048877Z",
     "iopub.status.idle": "2024-12-12T03:46:24.164737Z",
     "shell.execute_reply": "2024-12-12T03:46:24.164435Z",
     "shell.execute_reply.started": "2024-12-12T03:46:24.048994Z"
    }
   },
   "outputs": [
    {
     "data": {
      "image/png": "[encoded data removed]",
      "text/plain": [
       "<Figure size 640x480 with 1 Axes>"
      ]
     },
     "metadata": {},
     "output_type": "display_data"
    }
   ],
   "source": [
    "# we want to retain the top n number of PCs that will explain 85% of the original variance in the dataset\n",
    "\n",
    "pcs = range(1,18)\n",
    "plt.plot(pcs, cumulative_explained_variance_ratio, '-o')\n",
    "plt.xlabel('Number of Principal Components')\n",
    "plt.ylabel('cumulative explained variance')\n",
    "\n",
    "# draw a dotted horizontal line in red at 85% of cumulative explained variance\n",
    "plt.axhline(y=0.85, color='r', linestyle='--');"
   ]
  },
  {
   "cell_type": "markdown",
   "metadata": {},
   "source": [
    "Identified the number of top PCs that will be required for 85% retention of explained variance as 8."
   ]
  },
  {
   "cell_type": "code",
   "execution_count": 21,
   "metadata": {
    "execution": {
     "iopub.execute_input": "2024-12-12T03:46:24.165651Z",
     "iopub.status.busy": "2024-12-12T03:46:24.165478Z",
     "iopub.status.idle": "2024-12-12T03:46:24.212691Z",
     "shell.execute_reply": "2024-12-12T03:46:24.211733Z",
     "shell.execute_reply.started": "2024-12-12T03:46:24.165633Z"
    }
   },
   "outputs": [
    {
     "data": {
      "text/plain": [
       "(8636, 8)"
      ]
     },
     "execution_count": 21,
     "metadata": {},
     "output_type": "execute_result"
    }
   ],
   "source": [
    "# reduce the dimensionality of the data to 8 PCs\n",
    "pca_8 = PCA(n_components=8)\n",
    "pca_8_df = pca_8.fit_transform(df_scaled)\n",
    "pca_8_df = pd.DataFrame(pca_8_df, columns=['PC1', 'PC2', 'PC3', 'PC4', \n",
    "                                           'PC5','PC6', 'PC7', 'PC8'])\n",
    "pca_8_df.shape"
   ]
  },
  {
   "cell_type": "code",
   "execution_count": 22,
   "metadata": {
    "execution": {
     "iopub.execute_input": "2024-12-12T03:46:24.216689Z",
     "iopub.status.busy": "2024-12-12T03:46:24.214208Z",
     "iopub.status.idle": "2024-12-12T03:46:24.254468Z",
     "shell.execute_reply": "2024-12-12T03:46:24.250168Z",
     "shell.execute_reply.started": "2024-12-12T03:46:24.216667Z"
    }
   },
   "outputs": [
    {
     "data": {
      "text/html": [
       "<div>\n",
       "<style scoped>\n",
       "    .dataframe tbody tr th:only-of-type {\n",
       "        vertical-align: middle;\n",
       "    }\n",
       "\n",
       "    .dataframe tbody tr th {\n",
       "        vertical-align: top;\n",
       "    }\n",
       "\n",
       "    .dataframe thead th {\n",
       "        text-align: right;\n",
       "    }\n",
       "</style>\n",
       "<table border=\"1\" class=\"dataframe\">\n",
       "  <thead>\n",
       "    <tr style=\"text-align: right;\">\n",
       "      <th></th>\n",
       "      <th>PC1</th>\n",
       "      <th>PC2</th>\n",
       "      <th>PC3</th>\n",
       "      <th>PC4</th>\n",
       "      <th>PC5</th>\n",
       "      <th>PC6</th>\n",
       "      <th>PC7</th>\n",
       "      <th>PC8</th>\n",
       "    </tr>\n",
       "  </thead>\n",
       "  <tbody>\n",
       "    <tr>\n",
       "      <th>0</th>\n",
       "      <td>-1.696395</td>\n",
       "      <td>-1.122584</td>\n",
       "      <td>0.491562</td>\n",
       "      <td>0.719521</td>\n",
       "      <td>0.079830</td>\n",
       "      <td>0.118234</td>\n",
       "      <td>0.808993</td>\n",
       "      <td>-0.093970</td>\n",
       "    </tr>\n",
       "    <tr>\n",
       "      <th>1</th>\n",
       "      <td>-1.215681</td>\n",
       "      <td>2.435638</td>\n",
       "      <td>0.694658</td>\n",
       "      <td>-0.098843</td>\n",
       "      <td>0.803019</td>\n",
       "      <td>-0.917777</td>\n",
       "      <td>-0.322969</td>\n",
       "      <td>-0.045119</td>\n",
       "    </tr>\n",
       "    <tr>\n",
       "      <th>2</th>\n",
       "      <td>0.935853</td>\n",
       "      <td>-0.385202</td>\n",
       "      <td>-0.025953</td>\n",
       "      <td>1.293844</td>\n",
       "      <td>-1.987285</td>\n",
       "      <td>-0.682139</td>\n",
       "      <td>-1.624721</td>\n",
       "      <td>0.073401</td>\n",
       "    </tr>\n",
       "    <tr>\n",
       "      <th>3</th>\n",
       "      <td>-1.614638</td>\n",
       "      <td>-0.724586</td>\n",
       "      <td>0.272358</td>\n",
       "      <td>1.086116</td>\n",
       "      <td>-0.427814</td>\n",
       "      <td>0.082982</td>\n",
       "      <td>0.687001</td>\n",
       "      <td>0.063548</td>\n",
       "    </tr>\n",
       "    <tr>\n",
       "      <th>4</th>\n",
       "      <td>0.223701</td>\n",
       "      <td>-0.783610</td>\n",
       "      <td>-1.184434</td>\n",
       "      <td>0.721353</td>\n",
       "      <td>0.801243</td>\n",
       "      <td>0.525879</td>\n",
       "      <td>0.788893</td>\n",
       "      <td>-0.089942</td>\n",
       "    </tr>\n",
       "  </tbody>\n",
       "</table>\n",
       "</div>"
      ],
      "text/plain": [
       "        PC1       PC2       PC3       PC4       PC5       PC6       PC7  \\\n",
       "0 -1.696395 -1.122584  0.491562  0.719521  0.079830  0.118234  0.808993   \n",
       "1 -1.215681  2.435638  0.694658 -0.098843  0.803019 -0.917777 -0.322969   \n",
       "2  0.935853 -0.385202 -0.025953  1.293844 -1.987285 -0.682139 -1.624721   \n",
       "3 -1.614638 -0.724586  0.272358  1.086116 -0.427814  0.082982  0.687001   \n",
       "4  0.223701 -0.783610 -1.184434  0.721353  0.801243  0.525879  0.788893   \n",
       "\n",
       "        PC8  \n",
       "0 -0.093970  \n",
       "1 -0.045119  \n",
       "2  0.073401  \n",
       "3  0.063548  \n",
       "4 -0.089942  "
      ]
     },
     "execution_count": 22,
     "metadata": {},
     "output_type": "execute_result"
    }
   ],
   "source": [
    "pca_8_df.head()"
   ]
  },
  {
   "cell_type": "markdown",
   "metadata": {},
   "source": [
    "## Reducing the Dimensionality of the Data to 2 PCs for Visualization of Clusters"
   ]
  },
  {
   "cell_type": "code",
   "execution_count": 23,
   "metadata": {
    "execution": {
     "iopub.execute_input": "2024-12-12T03:46:24.265783Z",
     "iopub.status.busy": "2024-12-12T03:46:24.259877Z",
     "iopub.status.idle": "2024-12-12T03:46:24.281272Z",
     "shell.execute_reply": "2024-12-12T03:46:24.280908Z",
     "shell.execute_reply.started": "2024-12-12T03:46:24.265753Z"
    }
   },
   "outputs": [
    {
     "data": {
      "text/html": [
       "<div>\n",
       "<style scoped>\n",
       "    .dataframe tbody tr th:only-of-type {\n",
       "        vertical-align: middle;\n",
       "    }\n",
       "\n",
       "    .dataframe tbody tr th {\n",
       "        vertical-align: top;\n",
       "    }\n",
       "\n",
       "    .dataframe thead th {\n",
       "        text-align: right;\n",
       "    }\n",
       "</style>\n",
       "<table border=\"1\" class=\"dataframe\">\n",
       "  <thead>\n",
       "    <tr style=\"text-align: right;\">\n",
       "      <th></th>\n",
       "      <th>PC1</th>\n",
       "      <th>PC2</th>\n",
       "    </tr>\n",
       "  </thead>\n",
       "  <tbody>\n",
       "    <tr>\n",
       "      <th>0</th>\n",
       "      <td>-1.696395</td>\n",
       "      <td>-1.122584</td>\n",
       "    </tr>\n",
       "    <tr>\n",
       "      <th>1</th>\n",
       "      <td>-1.215681</td>\n",
       "      <td>2.435638</td>\n",
       "    </tr>\n",
       "    <tr>\n",
       "      <th>2</th>\n",
       "      <td>0.935853</td>\n",
       "      <td>-0.385202</td>\n",
       "    </tr>\n",
       "    <tr>\n",
       "      <th>3</th>\n",
       "      <td>-1.614638</td>\n",
       "      <td>-0.724586</td>\n",
       "    </tr>\n",
       "    <tr>\n",
       "      <th>4</th>\n",
       "      <td>0.223701</td>\n",
       "      <td>-0.783610</td>\n",
       "    </tr>\n",
       "  </tbody>\n",
       "</table>\n",
       "</div>"
      ],
      "text/plain": [
       "        PC1       PC2\n",
       "0 -1.696395 -1.122584\n",
       "1 -1.215681  2.435638\n",
       "2  0.935853 -0.385202\n",
       "3 -1.614638 -0.724586\n",
       "4  0.223701 -0.783610"
      ]
     },
     "execution_count": 23,
     "metadata": {},
     "output_type": "execute_result"
    }
   ],
   "source": [
    "pca_2_df = pca_8_df.iloc[:,0:2]\n",
    "pca_2_df.head()"
   ]
  },
  {
   "cell_type": "code",
   "execution_count": 24,
   "metadata": {
    "execution": {
     "iopub.execute_input": "2024-12-12T03:46:24.282206Z",
     "iopub.status.busy": "2024-12-12T03:46:24.282090Z",
     "iopub.status.idle": "2024-12-12T03:46:24.287423Z",
     "shell.execute_reply": "2024-12-12T03:46:24.286888Z",
     "shell.execute_reply.started": "2024-12-12T03:46:24.282194Z"
    }
   },
   "outputs": [
    {
     "data": {
      "text/plain": [
       "array([[ 1.00011581,  0.31017637,  0.17610348,  0.16000315,  0.12212286,\n",
       "         0.49564301, -0.08846968,  0.06383903, -0.06959004,  0.44535873,\n",
       "         0.38243273,  0.14790434,  0.53558019,  0.32286739,  0.39871509,\n",
       "        -0.33363241,  0.06699485],\n",
       "       [ 0.31017637,  1.00011581,  0.12264895,  0.09526524,  0.11475233,\n",
       "         0.08904616,  0.22818444,  0.18748913,  0.18418077,  0.18115313,\n",
       "         0.13328066,  0.18311592,  0.08769244,  0.03917363,  0.13253459,\n",
       "        -0.15697898,  0.10472654],\n",
       "       [ 0.17610348,  0.12264895,  1.00011581,  0.91688639,  0.67933756,\n",
       "        -0.05376645,  0.3930452 ,  0.49744167,  0.31606153, -0.12487702,\n",
       "        -0.07028537,  0.68881137,  0.35846691,  0.60685263,  0.09385287,\n",
       "         0.17646765,  0.08455498],\n",
       "       [ 0.16000315,  0.09526524,  0.91688639,  1.00011581,  0.3296878 ,\n",
       "        -0.03324821,  0.26549123,  0.5245748 ,  0.12839467, -0.08642311,\n",
       "        -0.04871085,  0.54537582,  0.32065058,  0.57091645,  0.04874689,\n",
       "         0.12990501,  0.0634072 ],\n",
       "       [ 0.12212286,  0.11475233,  0.67933756,  0.3296878 ,  1.00011581,\n",
       "        -0.06610672,  0.44124453,  0.21185334,  0.51118949, -0.13647061,\n",
       "        -0.07672469,  0.62615505,  0.25808738,  0.38543581,  0.13217109,\n",
       "         0.17846025,  0.08335532],\n",
       "       [ 0.49564301,  0.08904616, -0.05376645, -0.03324821, -0.06610672,\n",
       "         1.00011581, -0.21859179, -0.09012127, -0.17889415,  0.6291031 ,\n",
       "         0.65698755, -0.07845776,  0.30419592,  0.45939564,  0.14011009,\n",
       "        -0.15858471, -0.07309826],\n",
       "       [-0.08846968,  0.22818444,  0.3930452 ,  0.26549123,  0.44124453,\n",
       "        -0.21859179,  1.00011581,  0.50218142,  0.86243778, -0.3168074 ,\n",
       "        -0.20877333,  0.56723394,  0.12138604,  0.10072684,  0.00297906,\n",
       "         0.30542868,  0.05216686],\n",
       "       [ 0.06383903,  0.18748913,  0.49744167,  0.5245748 ,  0.21185334,\n",
       "        -0.09012127,  0.50218142,  1.00011581,  0.14392794, -0.1182386 ,\n",
       "        -0.07339221,  0.54442723,  0.29546655,  0.24437418, -0.03036002,\n",
       "         0.15409101,  0.08044652],\n",
       "       [-0.06959004,  0.18418077,  0.31606153,  0.12839467,  0.51118949,\n",
       "        -0.17889415,  0.86243778,  0.14392794,  1.00011581, -0.2689551 ,\n",
       "        -0.17283091,  0.52925284,  0.06342822,  0.08343378,  0.03003973,\n",
       "         0.24957549,  0.06578697],\n",
       "       [ 0.44535873,  0.18115313, -0.12487702, -0.08642311, -0.13647061,\n",
       "         0.6291031 , -0.3168074 , -0.1182386 , -0.2689551 ,  1.00011581,\n",
       "         0.79968545, -0.13692911,  0.13285597,  0.18236063,  0.09885591,\n",
       "        -0.26003128, -0.14005384],\n",
       "       [ 0.38243273,  0.13328066, -0.07028537, -0.04871085, -0.07672469,\n",
       "         0.65698755, -0.20877333, -0.07339221, -0.17283091,  0.79968545,\n",
       "         1.00011581, -0.0698873 ,  0.15027849,  0.25595107,  0.10973968,\n",
       "        -0.17659459, -0.04535535],\n",
       "       [ 0.14790434,  0.18311592,  0.68881137,  0.54537582,  0.62615505,\n",
       "        -0.07845776,  0.56723394,  0.54442723,  0.52925284, -0.13692911,\n",
       "        -0.0698873 ,  1.00011581,  0.2737468 ,  0.37152041,  0.09632183,\n",
       "         0.15680703,  0.11890324],\n",
       "       [ 0.53558019,  0.08769244,  0.35846691,  0.32065058,  0.25808738,\n",
       "         0.30419592,  0.12138604,  0.29546655,  0.06342822,  0.13285597,\n",
       "         0.15027849,  0.2737468 ,  1.00011581,  0.42700083,  0.12668562,\n",
       "         0.052584  ,  0.13647962],\n",
       "       [ 0.32286739,  0.03917363,  0.60685263,  0.57091645,  0.38543581,\n",
       "         0.45939564,  0.10072684,  0.24437418,  0.08343378,  0.18236063,\n",
       "         0.25595107,  0.37152041,  0.42700083,  1.00011581,  0.12664417,\n",
       "         0.10468022,  0.10299773],\n",
       "       [ 0.39871509,  0.13253459,  0.09385287,  0.04874689,  0.13217109,\n",
       "         0.14011009,  0.00297906, -0.03036002,  0.03003973,  0.09885591,\n",
       "         0.10973968,  0.09632183,  0.12668562,  0.12664417,  1.00011581,\n",
       "        -0.14042047,  0.05933718],\n",
       "       [-0.33363241, -0.15697898,  0.17646765,  0.12990501,  0.17846025,\n",
       "        -0.15858471,  0.30542868,  0.15409101,  0.24957549, -0.26003128,\n",
       "        -0.17659459,  0.15680703,  0.052584  ,  0.10468022, -0.14042047,\n",
       "         1.00011581, -0.0242254 ],\n",
       "       [ 0.06699485,  0.10472654,  0.08455498,  0.0634072 ,  0.08335532,\n",
       "        -0.07309826,  0.05216686,  0.08044652,  0.06578697, -0.14005384,\n",
       "        -0.04535535,  0.11890324,  0.13647962,  0.10299773,  0.05933718,\n",
       "        -0.0242254 ,  1.00011581]])"
      ]
     },
     "execution_count": 24,
     "metadata": {},
     "output_type": "execute_result"
    }
   ],
   "source": [
    "pca.get_covariance() #17x17"
   ]
  },
  {
   "cell_type": "markdown",
   "metadata": {},
   "source": [
    "## Clustering"
   ]
  },
  {
   "cell_type": "code",
   "execution_count": 25,
   "metadata": {
    "execution": {
     "iopub.execute_input": "2024-12-12T03:46:24.288763Z",
     "iopub.status.busy": "2024-12-12T03:46:24.288395Z",
     "iopub.status.idle": "2024-12-12T03:46:26.110101Z",
     "shell.execute_reply": "2024-12-12T03:46:26.108451Z",
     "shell.execute_reply.started": "2024-12-12T03:46:24.288716Z"
    }
   },
   "outputs": [
    {
     "data": {
      "text/plain": [
       "[48012.31387331895,\n",
       " 31903.108576045463,\n",
       " 23720.173663247617,\n",
       " 18754.49120636518,\n",
       " 15702.369725070139,\n",
       " 13330.209247105337,\n",
       " 11875.527689908326,\n",
       " 10518.809005025545,\n",
       " 9551.516806204656,\n",
       " 8661.213957886552]"
      ]
     },
     "execution_count": 25,
     "metadata": {},
     "output_type": "execute_result"
    }
   ],
   "source": [
    "# clustering with kmeans on the reduced dataset with 2 PCs\n",
    "# try out cluster numbers from 2 to 11\n",
    "from sklearn.cluster import KMeans\n",
    "k = range(2,12)\n",
    "wss= []\n",
    "\n",
    "for n_clus in k:\n",
    "    kmeans = KMeans(n_clusters=n_clus)\n",
    "    kmeans.fit(pca_2_df)\n",
    "    wss.append(kmeans.inertia_)\n",
    "    \n",
    "wss"
   ]
  },
  {
   "cell_type": "markdown",
   "metadata": {},
   "source": [
    "## Elbow Plot"
   ]
  },
  {
   "cell_type": "code",
   "execution_count": 26,
   "metadata": {
    "execution": {
     "iopub.execute_input": "2024-12-12T03:46:26.112758Z",
     "iopub.status.busy": "2024-12-12T03:46:26.112367Z",
     "iopub.status.idle": "2024-12-12T03:46:26.194294Z",
     "shell.execute_reply": "2024-12-12T03:46:26.189108Z",
     "shell.execute_reply.started": "2024-12-12T03:46:26.112731Z"
    }
   },
   "outputs": [
    {
     "data": {
      "image/png": "[encoded data removed]",
      "text/plain": [
       "<Figure size 640x480 with 1 Axes>"
      ]
     },
     "metadata": {},
     "output_type": "display_data"
    }
   ],
   "source": [
    "plt.plot(k, wss, '-o')\n",
    "plt.xlabel('Number of Clusters')\n",
    "plt.ylabel('WSS');"
   ]
  },
  {
   "cell_type": "markdown",
   "metadata": {},
   "source": [
    "The elbow plot is inconclusive."
   ]
  },
  {
   "cell_type": "code",
   "execution_count": 27,
   "metadata": {
    "execution": {
     "iopub.execute_input": "2024-12-12T03:46:26.200226Z",
     "iopub.status.busy": "2024-12-12T03:46:26.197086Z",
     "iopub.status.idle": "2024-12-12T03:46:35.436807Z",
     "shell.execute_reply": "2024-12-12T03:46:35.435692Z",
     "shell.execute_reply.started": "2024-12-12T03:46:26.200201Z"
    }
   },
   "outputs": [],
   "source": [
    "# silhouette score\n",
    "from sklearn.metrics import silhouette_score\n",
    "\n",
    "ss = []\n",
    "for n_clus in k:\n",
    "    kmeans = KMeans(n_clusters=n_clus)\n",
    "    kmeans.fit(pca_2_df)\n",
    "    sil_score = silhouette_score(pca_2_df, kmeans.labels_)\n",
    "    ss.append(sil_score)"
   ]
  },
  {
   "cell_type": "code",
   "execution_count": 28,
   "metadata": {
    "execution": {
     "iopub.execute_input": "2024-12-12T03:46:35.438091Z",
     "iopub.status.busy": "2024-12-12T03:46:35.437704Z",
     "iopub.status.idle": "2024-12-12T03:46:35.520264Z",
     "shell.execute_reply": "2024-12-12T03:46:35.519518Z",
     "shell.execute_reply.started": "2024-12-12T03:46:35.438057Z"
    }
   },
   "outputs": [
    {
     "data": {
      "image/png": "[encoded data removed]",
      "text/plain": [
       "<Figure size 640x480 with 1 Axes>"
      ]
     },
     "metadata": {},
     "output_type": "display_data"
    }
   ],
   "source": [
    "# plot the silhouette score vs number of clusters\n",
    "plt.plot(k, ss, '-o')\n",
    "plt.xlabel('Number of Clusters')\n",
    "plt.ylabel('Silhouette Score');"
   ]
  },
  {
   "cell_type": "markdown",
   "metadata": {},
   "source": [
    "The optimum number of clusters is 2."
   ]
  },
  {
   "cell_type": "code",
   "execution_count": 29,
   "metadata": {
    "execution": {
     "iopub.execute_input": "2024-12-12T03:46:35.521103Z",
     "iopub.status.busy": "2024-12-12T03:46:35.520879Z",
     "iopub.status.idle": "2024-12-12T03:46:35.727052Z",
     "shell.execute_reply": "2024-12-12T03:46:35.726445Z",
     "shell.execute_reply.started": "2024-12-12T03:46:35.521085Z"
    }
   },
   "outputs": [
    {
     "data": {
      "text/plain": [
       "array([0, 0, 0, ..., 0, 0, 0], dtype=int32)"
      ]
     },
     "execution_count": 29,
     "metadata": {},
     "output_type": "execute_result"
    }
   ],
   "source": [
    "kmeans_2 = KMeans(n_clusters=2)\n",
    "labs = kmeans_2.fit_predict(pca_2_df)\n",
    "labs"
   ]
  },
  {
   "cell_type": "code",
   "execution_count": 30,
   "metadata": {
    "execution": {
     "iopub.execute_input": "2024-12-12T03:46:35.732688Z",
     "iopub.status.busy": "2024-12-12T03:46:35.732492Z",
     "iopub.status.idle": "2024-12-12T03:46:35.738495Z",
     "shell.execute_reply": "2024-12-12T03:46:35.737410Z",
     "shell.execute_reply.started": "2024-12-12T03:46:35.732675Z"
    }
   },
   "outputs": [
    {
     "data": {
      "text/html": [
       "<div>\n",
       "<style scoped>\n",
       "    .dataframe tbody tr th:only-of-type {\n",
       "        vertical-align: middle;\n",
       "    }\n",
       "\n",
       "    .dataframe tbody tr th {\n",
       "        vertical-align: top;\n",
       "    }\n",
       "\n",
       "    .dataframe thead th {\n",
       "        text-align: right;\n",
       "    }\n",
       "</style>\n",
       "<table border=\"1\" class=\"dataframe\">\n",
       "  <thead>\n",
       "    <tr style=\"text-align: right;\">\n",
       "      <th></th>\n",
       "      <th>PC1</th>\n",
       "      <th>PC2</th>\n",
       "      <th>cluster</th>\n",
       "    </tr>\n",
       "  </thead>\n",
       "  <tbody>\n",
       "    <tr>\n",
       "      <th>0</th>\n",
       "      <td>-1.696395</td>\n",
       "      <td>-1.122584</td>\n",
       "      <td>0</td>\n",
       "    </tr>\n",
       "    <tr>\n",
       "      <th>1</th>\n",
       "      <td>-1.215681</td>\n",
       "      <td>2.435638</td>\n",
       "      <td>0</td>\n",
       "    </tr>\n",
       "    <tr>\n",
       "      <th>2</th>\n",
       "      <td>0.935853</td>\n",
       "      <td>-0.385202</td>\n",
       "      <td>0</td>\n",
       "    </tr>\n",
       "    <tr>\n",
       "      <th>3</th>\n",
       "      <td>-1.614638</td>\n",
       "      <td>-0.724586</td>\n",
       "      <td>0</td>\n",
       "    </tr>\n",
       "    <tr>\n",
       "      <th>4</th>\n",
       "      <td>0.223701</td>\n",
       "      <td>-0.783610</td>\n",
       "      <td>0</td>\n",
       "    </tr>\n",
       "  </tbody>\n",
       "</table>\n",
       "</div>"
      ],
      "text/plain": [
       "        PC1       PC2  cluster\n",
       "0 -1.696395 -1.122584        0\n",
       "1 -1.215681  2.435638        0\n",
       "2  0.935853 -0.385202        0\n",
       "3 -1.614638 -0.724586        0\n",
       "4  0.223701 -0.783610        0"
      ]
     },
     "execution_count": 30,
     "metadata": {},
     "output_type": "execute_result"
    }
   ],
   "source": [
    "# add the cluster labels to the dataframe\n",
    "pca_2_df['cluster'] = labs\n",
    "pca_2_df.head()"
   ]
  },
  {
   "cell_type": "code",
   "execution_count": 31,
   "metadata": {
    "execution": {
     "iopub.execute_input": "2024-12-12T03:46:35.740596Z",
     "iopub.status.busy": "2024-12-12T03:46:35.739426Z",
     "iopub.status.idle": "2024-12-12T03:46:36.077348Z",
     "shell.execute_reply": "2024-12-12T03:46:36.076984Z",
     "shell.execute_reply.started": "2024-12-12T03:46:35.740573Z"
    }
   },
   "outputs": [
    {
     "data": {
      "image/png": "[encoded data removed]",
      "text/plain": [
       "<Figure size 640x480 with 1 Axes>"
      ]
     },
     "metadata": {},
     "output_type": "display_data"
    }
   ],
   "source": [
    "# visualize the scatter plot with datapoints color coded by cluster labels\n",
    "sns.scatterplot(x='PC1', y='PC2', hue='cluster', data=pca_2_df);"
   ]
  },
  {
   "cell_type": "code",
   "execution_count": 32,
   "metadata": {
    "execution": {
     "iopub.execute_input": "2024-12-12T03:46:36.078415Z",
     "iopub.status.busy": "2024-12-12T03:46:36.078173Z",
     "iopub.status.idle": "2024-12-12T03:46:36.090643Z",
     "shell.execute_reply": "2024-12-12T03:46:36.090320Z",
     "shell.execute_reply.started": "2024-12-12T03:46:36.078396Z"
    }
   },
   "outputs": [
    {
     "data": {
      "text/plain": [
       "(8636, 8)"
      ]
     },
     "execution_count": 32,
     "metadata": {},
     "output_type": "execute_result"
    }
   ],
   "source": [
    "# shortcut for dimensionality reduction given the explained variance to be retained\n",
    "pca_85 = PCA(n_components=0.85)\n",
    "pca_85_df = pca_85.fit_transform(df_scaled)\n",
    "pca_85_df = pd.DataFrame(pca_85_df, columns=['PC1', 'PC2', 'PC3', 'PC4', \n",
    "                                           'PC5','PC6', 'PC7', 'PC8'])\n",
    "pca_85_df.shape"
   ]
  },
  {
   "cell_type": "code",
   "execution_count": 33,
   "metadata": {
    "execution": {
     "iopub.execute_input": "2024-12-12T03:46:36.091313Z",
     "iopub.status.busy": "2024-12-12T03:46:36.091181Z",
     "iopub.status.idle": "2024-12-12T03:46:36.096584Z",
     "shell.execute_reply": "2024-12-12T03:46:36.096013Z",
     "shell.execute_reply.started": "2024-12-12T03:46:36.091301Z"
    }
   },
   "outputs": [
    {
     "data": {
      "text/html": [
       "<div>\n",
       "<style scoped>\n",
       "    .dataframe tbody tr th:only-of-type {\n",
       "        vertical-align: middle;\n",
       "    }\n",
       "\n",
       "    .dataframe tbody tr th {\n",
       "        vertical-align: top;\n",
       "    }\n",
       "\n",
       "    .dataframe thead th {\n",
       "        text-align: right;\n",
       "    }\n",
       "</style>\n",
       "<table border=\"1\" class=\"dataframe\">\n",
       "  <thead>\n",
       "    <tr style=\"text-align: right;\">\n",
       "      <th></th>\n",
       "      <th>PC1</th>\n",
       "      <th>PC2</th>\n",
       "      <th>PC3</th>\n",
       "      <th>PC4</th>\n",
       "      <th>PC5</th>\n",
       "      <th>PC6</th>\n",
       "      <th>PC7</th>\n",
       "      <th>PC8</th>\n",
       "    </tr>\n",
       "  </thead>\n",
       "  <tbody>\n",
       "    <tr>\n",
       "      <th>0</th>\n",
       "      <td>-1.696395</td>\n",
       "      <td>-1.122584</td>\n",
       "      <td>0.491562</td>\n",
       "      <td>0.719521</td>\n",
       "      <td>0.079830</td>\n",
       "      <td>0.118234</td>\n",
       "      <td>0.808993</td>\n",
       "      <td>-0.093970</td>\n",
       "    </tr>\n",
       "    <tr>\n",
       "      <th>1</th>\n",
       "      <td>-1.215681</td>\n",
       "      <td>2.435638</td>\n",
       "      <td>0.694658</td>\n",
       "      <td>-0.098843</td>\n",
       "      <td>0.803019</td>\n",
       "      <td>-0.917777</td>\n",
       "      <td>-0.322969</td>\n",
       "      <td>-0.045119</td>\n",
       "    </tr>\n",
       "    <tr>\n",
       "      <th>2</th>\n",
       "      <td>0.935853</td>\n",
       "      <td>-0.385202</td>\n",
       "      <td>-0.025953</td>\n",
       "      <td>1.293844</td>\n",
       "      <td>-1.987285</td>\n",
       "      <td>-0.682139</td>\n",
       "      <td>-1.624721</td>\n",
       "      <td>0.073401</td>\n",
       "    </tr>\n",
       "    <tr>\n",
       "      <th>3</th>\n",
       "      <td>-1.614638</td>\n",
       "      <td>-0.724586</td>\n",
       "      <td>0.272358</td>\n",
       "      <td>1.086116</td>\n",
       "      <td>-0.427814</td>\n",
       "      <td>0.082982</td>\n",
       "      <td>0.687001</td>\n",
       "      <td>0.063548</td>\n",
       "    </tr>\n",
       "    <tr>\n",
       "      <th>4</th>\n",
       "      <td>0.223701</td>\n",
       "      <td>-0.783610</td>\n",
       "      <td>-1.184434</td>\n",
       "      <td>0.721353</td>\n",
       "      <td>0.801243</td>\n",
       "      <td>0.525879</td>\n",
       "      <td>0.788893</td>\n",
       "      <td>-0.089942</td>\n",
       "    </tr>\n",
       "  </tbody>\n",
       "</table>\n",
       "</div>"
      ],
      "text/plain": [
       "        PC1       PC2       PC3       PC4       PC5       PC6       PC7  \\\n",
       "0 -1.696395 -1.122584  0.491562  0.719521  0.079830  0.118234  0.808993   \n",
       "1 -1.215681  2.435638  0.694658 -0.098843  0.803019 -0.917777 -0.322969   \n",
       "2  0.935853 -0.385202 -0.025953  1.293844 -1.987285 -0.682139 -1.624721   \n",
       "3 -1.614638 -0.724586  0.272358  1.086116 -0.427814  0.082982  0.687001   \n",
       "4  0.223701 -0.783610 -1.184434  0.721353  0.801243  0.525879  0.788893   \n",
       "\n",
       "        PC8  \n",
       "0 -0.093970  \n",
       "1 -0.045119  \n",
       "2  0.073401  \n",
       "3  0.063548  \n",
       "4 -0.089942  "
      ]
     },
     "execution_count": 33,
     "metadata": {},
     "output_type": "execute_result"
    }
   ],
   "source": [
    "pca_85_df.head()"
   ]
  },
  {
   "cell_type": "code",
   "execution_count": null,
   "metadata": {},
   "outputs": [],
   "source": []
  }
 ],
 "metadata": {
  "kernelspec": {
   "display_name": "Python (base)",
   "language": "python",
   "name": "base"
  },
  "language_info": {
   "codemirror_mode": {
    "name": "ipython",
    "version": 3
   },
   "file_extension": ".py",
   "mimetype": "text/x-python",
   "name": "python",
   "nbconvert_exporter": "python",
   "pygments_lexer": "ipython3",
   "version": "3.10.10"
  },
  "widgets": {
   "application/vnd.jupyter.widget-state+json": {
    "state": {},
    "version_major": 2,
    "version_minor": 0
   }
  }
 },
 "nbformat": 4,
 "nbformat_minor": 4
}
